{
 "cells": [
  {
   "cell_type": "markdown",
   "id": "0a0f106d",
   "metadata": {},
   "source": [
    "# WEB SCRAPING - VIVAREAL"
   ]
  },
  {
   "cell_type": "code",
   "execution_count": 45,
   "id": "27dc7666",
   "metadata": {},
   "outputs": [
    {
     "data": {
      "text/plain": [
       "200"
      ]
     },
     "execution_count": 45,
     "metadata": {},
     "output_type": "execute_result"
    }
   ],
   "source": [
    "import re\n",
    "from bs4 import BeautifulSoup\n",
    "import pandas as pd\n",
    "import requests\n",
    "import matplotlib.pyplot as plt\n",
    "import seaborn as sns\n",
    "import numpy as np\n",
    "import warnings\n",
    "warnings.filterwarnings('ignore') \n",
    "from selenium import webdriver\n",
    "from time import sleep\n",
    "from selenium.webdriver.common.by import By\n",
    "from selenium.webdriver.support.ui import WebDriverWait\n",
    "from selenium.webdriver.support import expected_conditions as EC\n",
    "\n",
    "coleta = requests.get('https://www.vivareal.com.br/aluguel/sp/campinas/?__vt=lnv:a&pagina=4#ordenar-por=preco-total:ASC')\n",
    "coleta.status_code"
   ]
  },
  {
   "cell_type": "code",
   "execution_count": 87,
   "id": "79f073d3",
   "metadata": {},
   "outputs": [],
   "source": [
    "lista_imoveis = []"
   ]
  },
  {
   "cell_type": "code",
   "execution_count": 88,
   "id": "946cedaa",
   "metadata": {},
   "outputs": [
    {
     "name": "stdout",
     "output_type": "stream",
     "text": [
      "Digite o numero de paginas que deseja extrair: 2\n"
     ]
    }
   ],
   "source": [
    "paginas = int(input(\"Digite o numero de paginas que deseja extrair: \"))\n",
    "\n",
    "driver = webdriver.Chrome()\n",
    "\n",
    "driver.get('https://www.vivareal.com.br/aluguel/sp/campinas/?__vt=lnv:a&pagina=2')\n",
    "sleep(2)\n",
    "\n",
    "#Varre a quantidade de paginas desejadas \n",
    "for n in range (1,paginas,1):\n",
    "    \n",
    "    #clica no botão próxima página\n",
    "    driver.execute_script(\"arguments[0].click();\", WebDriverWait(driver, 20).until(EC.element_to_be_clickable((By.XPATH, '//*[@id=\"js-site-main\"]/div[2]/div[1]/section/div[2]/div[2]/div/ul/li[9]/button'))))\n",
    "    sleep(10)\n",
    "    \n",
    "    page_content = driver.page_source\n",
    " \n",
    "    site = BeautifulSoup(page_content, 'html.parser')\n",
    "    \n",
    "    #print(site)\n",
    "    sleep(10)\n",
    "    #Coleta a localização da div mãe\n",
    "    imoveis = site.findAll('article', attrs={'class': 'property-card__container js-property-card'})\n",
    "    \n",
    "    #print(imoveis)\n",
    "    #Busca as tags correspondentes dentro da div mãe\n",
    "    for n in imoveis:\n",
    "        \n",
    "\n",
    "        #coleta ao titulo\n",
    "        titulo = n.find(class_=\"property-card__title js-cardLink js-card-title\").text.strip()\n",
    "        \n",
    "        #coleta o endereco\n",
    "        endereco = n.find('span', attrs={'class': 'property-card__address'}) \n",
    "        \n",
    "        #coleta o metragem\n",
    "        metro = n.find(class_=\"property-card__detail-value js-property-card-value property-card__detail-area js-property-card-detail-area\").text.strip()\n",
    "        \n",
    "        #coleta o quarto\n",
    "        quarto = n.find(class_=\"property-card__detail-item property-card__detail-room js-property-detail-rooms\").text.strip()\n",
    "        quarto.rstrip(\"Quarto\")\n",
    "        \n",
    "        #coleta banheiro\n",
    "        banheiro = n.find(class_=\"property-card__detail-item property-card__detail-bathroom js-property-detail-bathroom\").text.strip() \n",
    "        \n",
    "        #coleta garagem\n",
    "        garagem = n.find(class_=\"property-card__detail-item property-card__detail-garage js-property-detail-garages\").text.strip() \n",
    "        \n",
    "        #coleta preco\n",
    "        preco = n.find(class_=\"property-card__price js-property-card-prices js-property-card__price-small\").text.strip() \n",
    "        \n",
    "        #Armazena os dados coletados na div\n",
    "        lista_imoveis.append([titulo, endereco.text, metro, quarto, banheiro, garagem, preco])\n",
    "\n"
   ]
  },
  {
   "cell_type": "code",
   "execution_count": 36,
   "id": "a0a48297",
   "metadata": {},
   "outputs": [
    {
     "data": {
      "text/html": [
       "<div>\n",
       "<style scoped>\n",
       "    .dataframe tbody tr th:only-of-type {\n",
       "        vertical-align: middle;\n",
       "    }\n",
       "\n",
       "    .dataframe tbody tr th {\n",
       "        vertical-align: top;\n",
       "    }\n",
       "\n",
       "    .dataframe thead th {\n",
       "        text-align: right;\n",
       "    }\n",
       "</style>\n",
       "<table border=\"1\" class=\"dataframe\">\n",
       "  <thead>\n",
       "    <tr style=\"text-align: right;\">\n",
       "      <th></th>\n",
       "      <th>Título</th>\n",
       "      <th>Endereço</th>\n",
       "      <th>Metro_m2</th>\n",
       "      <th>N_Quartos</th>\n",
       "      <th>N_Banheiros</th>\n",
       "      <th>N_Garagens</th>\n",
       "      <th>Valor_Mensal</th>\n",
       "    </tr>\n",
       "  </thead>\n",
       "  <tbody>\n",
       "    <tr>\n",
       "      <th>0</th>\n",
       "      <td>Casa com 4 Quartos para Venda/Aluguel 224m²</td>\n",
       "      <td>Jardim Chapadão, Campinas - SP</td>\n",
       "      <td>224</td>\n",
       "      <td>4\\n              \\n\\n                Quartos</td>\n",
       "      <td>3\\n              \\n\\n                Banheiros</td>\n",
       "      <td>2\\n                \\n\\n                  Vagas</td>\n",
       "      <td>R$ 4.800\\n                      /Mês\\n\\n\\n    ...</td>\n",
       "    </tr>\n",
       "    <tr>\n",
       "      <th>1</th>\n",
       "      <td>Apartamento com 3 Quartos para Aluguel, 91m²</td>\n",
       "      <td>Taquaral, Campinas - SP</td>\n",
       "      <td>91</td>\n",
       "      <td>3\\n              \\n\\n                Quartos</td>\n",
       "      <td>3\\n              \\n\\n                Banheiros</td>\n",
       "      <td>2\\n                \\n\\n                  Vagas</td>\n",
       "      <td>R$ 4.300\\n                      /Mês</td>\n",
       "    </tr>\n",
       "    <tr>\n",
       "      <th>2</th>\n",
       "      <td>Casa de condomínio com 3 Quartos para Aluguel,...</td>\n",
       "      <td>Rua Padre Domingos Giovanini, 394 - Parque Taq...</td>\n",
       "      <td>80</td>\n",
       "      <td>3\\n              \\n\\n                Quartos</td>\n",
       "      <td>2\\n              \\n\\n                Banheiros</td>\n",
       "      <td>2\\n                \\n\\n                  Vagas</td>\n",
       "      <td>R$ 3.200\\n                      /Mês</td>\n",
       "    </tr>\n",
       "    <tr>\n",
       "      <th>3</th>\n",
       "      <td>Apartamento com 3 Quartos para Venda/Aluguel 1...</td>\n",
       "      <td>Avenida Maria Emília Alves dos Santos de Ângel...</td>\n",
       "      <td>134</td>\n",
       "      <td>3\\n              \\n\\n                Quartos</td>\n",
       "      <td>5\\n              \\n\\n                Banheiros</td>\n",
       "      <td>3\\n                \\n\\n                  Vagas</td>\n",
       "      <td>R$ 4.500\\n                      /Mês\\n\\n\\n    ...</td>\n",
       "    </tr>\n",
       "    <tr>\n",
       "      <th>4</th>\n",
       "      <td>Casa com 3 Quartos para Venda/Aluguel 285m²</td>\n",
       "      <td>Rua João Batista Signori, 115 - Vila Nova, Cam...</td>\n",
       "      <td>285</td>\n",
       "      <td>3\\n              \\n\\n                Quartos</td>\n",
       "      <td>2\\n              \\n\\n                Banheiros</td>\n",
       "      <td>2\\n                \\n\\n                  Vagas</td>\n",
       "      <td>R$ 2.900\\n                      /Mês\\n\\n\\n    ...</td>\n",
       "    </tr>\n",
       "  </tbody>\n",
       "</table>\n",
       "</div>"
      ],
      "text/plain": [
       "                                              Título  \\\n",
       "0        Casa com 4 Quartos para Venda/Aluguel 224m²   \n",
       "1       Apartamento com 3 Quartos para Aluguel, 91m²   \n",
       "2  Casa de condomínio com 3 Quartos para Aluguel,...   \n",
       "3  Apartamento com 3 Quartos para Venda/Aluguel 1...   \n",
       "4        Casa com 3 Quartos para Venda/Aluguel 285m²   \n",
       "\n",
       "                                            Endereço Metro_m2  \\\n",
       "0                     Jardim Chapadão, Campinas - SP      224   \n",
       "1                            Taquaral, Campinas - SP       91   \n",
       "2  Rua Padre Domingos Giovanini, 394 - Parque Taq...       80   \n",
       "3  Avenida Maria Emília Alves dos Santos de Ângel...      134   \n",
       "4  Rua João Batista Signori, 115 - Vila Nova, Cam...      285   \n",
       "\n",
       "                                      N_Quartos  \\\n",
       "0  4\\n              \\n\\n                Quartos   \n",
       "1  3\\n              \\n\\n                Quartos   \n",
       "2  3\\n              \\n\\n                Quartos   \n",
       "3  3\\n              \\n\\n                Quartos   \n",
       "4  3\\n              \\n\\n                Quartos   \n",
       "\n",
       "                                      N_Banheiros  \\\n",
       "0  3\\n              \\n\\n                Banheiros   \n",
       "1  3\\n              \\n\\n                Banheiros   \n",
       "2  2\\n              \\n\\n                Banheiros   \n",
       "3  5\\n              \\n\\n                Banheiros   \n",
       "4  2\\n              \\n\\n                Banheiros   \n",
       "\n",
       "                                       N_Garagens  \\\n",
       "0  2\\n                \\n\\n                  Vagas   \n",
       "1  2\\n                \\n\\n                  Vagas   \n",
       "2  2\\n                \\n\\n                  Vagas   \n",
       "3  3\\n                \\n\\n                  Vagas   \n",
       "4  2\\n                \\n\\n                  Vagas   \n",
       "\n",
       "                                        Valor_Mensal  \n",
       "0  R$ 4.800\\n                      /Mês\\n\\n\\n    ...  \n",
       "1               R$ 4.300\\n                      /Mês  \n",
       "2               R$ 3.200\\n                      /Mês  \n",
       "3  R$ 4.500\\n                      /Mês\\n\\n\\n    ...  \n",
       "4  R$ 2.900\\n                      /Mês\\n\\n\\n    ...  "
      ]
     },
     "execution_count": 36,
     "metadata": {},
     "output_type": "execute_result"
    }
   ],
   "source": [
    "#Cria dataframe\n",
    "df = pd.DataFrame(lista_imoveis, columns=['Título','Endereço', 'Metro_m2', 'N_Quartos', 'N_Banheiros', 'N_Garagens', 'Valor_Mensal'])\n",
    "#Salva datraframe em arquivo csv\n",
    "df.to_csv('vivareal_campinas.csv', index=False)\n",
    "df.head()\n"
   ]
  },
  {
   "cell_type": "markdown",
   "id": "91c2e4a2",
   "metadata": {},
   "source": [
    "# Parte 2 - Análise Exploratória dos Dados"
   ]
  },
  {
   "cell_type": "code",
   "execution_count": 52,
   "id": "eb8467df",
   "metadata": {},
   "outputs": [
    {
     "data": {
      "text/plain": [
       "3564"
      ]
     },
     "execution_count": 52,
     "metadata": {},
     "output_type": "execute_result"
    }
   ],
   "source": [
    "df = pd.read_csv('vivareal_campinas.csv')\n",
    "df.shape[0] "
   ]
  },
  {
   "cell_type": "code",
   "execution_count": 53,
   "id": "e2b06eab",
   "metadata": {},
   "outputs": [
    {
     "data": {
      "text/html": [
       "<div>\n",
       "<style scoped>\n",
       "    .dataframe tbody tr th:only-of-type {\n",
       "        vertical-align: middle;\n",
       "    }\n",
       "\n",
       "    .dataframe tbody tr th {\n",
       "        vertical-align: top;\n",
       "    }\n",
       "\n",
       "    .dataframe thead th {\n",
       "        text-align: right;\n",
       "    }\n",
       "</style>\n",
       "<table border=\"1\" class=\"dataframe\">\n",
       "  <thead>\n",
       "    <tr style=\"text-align: right;\">\n",
       "      <th></th>\n",
       "      <th>Título</th>\n",
       "      <th>Endereço</th>\n",
       "      <th>Metro_m2</th>\n",
       "      <th>N_Quartos</th>\n",
       "      <th>N_Banheiros</th>\n",
       "      <th>N_Garagens</th>\n",
       "      <th>Valor_Mensal</th>\n",
       "    </tr>\n",
       "  </thead>\n",
       "  <tbody>\n",
       "    <tr>\n",
       "      <th>0</th>\n",
       "      <td>Casa com 4 Quartos para Venda/Aluguel 224m²</td>\n",
       "      <td>Jardim Chapadão, Campinas - SP</td>\n",
       "      <td>224</td>\n",
       "      <td>4\\n              \\n\\n                Quartos</td>\n",
       "      <td>3\\n              \\n\\n                Banheiros</td>\n",
       "      <td>2\\n                \\n\\n                  Vagas</td>\n",
       "      <td>R$ 4.800\\n                      /Mês\\n\\n\\n    ...</td>\n",
       "    </tr>\n",
       "    <tr>\n",
       "      <th>1</th>\n",
       "      <td>Apartamento com 3 Quartos para Aluguel, 91m²</td>\n",
       "      <td>Taquaral, Campinas - SP</td>\n",
       "      <td>91</td>\n",
       "      <td>3\\n              \\n\\n                Quartos</td>\n",
       "      <td>3\\n              \\n\\n                Banheiros</td>\n",
       "      <td>2\\n                \\n\\n                  Vagas</td>\n",
       "      <td>R$ 4.300\\n                      /Mês</td>\n",
       "    </tr>\n",
       "    <tr>\n",
       "      <th>2</th>\n",
       "      <td>Casa de condomínio com 3 Quartos para Aluguel,...</td>\n",
       "      <td>Rua Padre Domingos Giovanini, 394 - Parque Taq...</td>\n",
       "      <td>80</td>\n",
       "      <td>3\\n              \\n\\n                Quartos</td>\n",
       "      <td>2\\n              \\n\\n                Banheiros</td>\n",
       "      <td>2\\n                \\n\\n                  Vagas</td>\n",
       "      <td>R$ 3.200\\n                      /Mês</td>\n",
       "    </tr>\n",
       "    <tr>\n",
       "      <th>3</th>\n",
       "      <td>Apartamento com 3 Quartos para Venda/Aluguel 1...</td>\n",
       "      <td>Avenida Maria Emília Alves dos Santos de Ângel...</td>\n",
       "      <td>134</td>\n",
       "      <td>3\\n              \\n\\n                Quartos</td>\n",
       "      <td>5\\n              \\n\\n                Banheiros</td>\n",
       "      <td>3\\n                \\n\\n                  Vagas</td>\n",
       "      <td>R$ 4.500\\n                      /Mês\\n\\n\\n    ...</td>\n",
       "    </tr>\n",
       "    <tr>\n",
       "      <th>4</th>\n",
       "      <td>Casa com 3 Quartos para Venda/Aluguel 285m²</td>\n",
       "      <td>Rua João Batista Signori, 115 - Vila Nova, Cam...</td>\n",
       "      <td>285</td>\n",
       "      <td>3\\n              \\n\\n                Quartos</td>\n",
       "      <td>2\\n              \\n\\n                Banheiros</td>\n",
       "      <td>2\\n                \\n\\n                  Vagas</td>\n",
       "      <td>R$ 2.900\\n                      /Mês\\n\\n\\n    ...</td>\n",
       "    </tr>\n",
       "  </tbody>\n",
       "</table>\n",
       "</div>"
      ],
      "text/plain": [
       "                                              Título  \\\n",
       "0        Casa com 4 Quartos para Venda/Aluguel 224m²   \n",
       "1       Apartamento com 3 Quartos para Aluguel, 91m²   \n",
       "2  Casa de condomínio com 3 Quartos para Aluguel,...   \n",
       "3  Apartamento com 3 Quartos para Venda/Aluguel 1...   \n",
       "4        Casa com 3 Quartos para Venda/Aluguel 285m²   \n",
       "\n",
       "                                            Endereço  Metro_m2  \\\n",
       "0                     Jardim Chapadão, Campinas - SP       224   \n",
       "1                            Taquaral, Campinas - SP        91   \n",
       "2  Rua Padre Domingos Giovanini, 394 - Parque Taq...        80   \n",
       "3  Avenida Maria Emília Alves dos Santos de Ângel...       134   \n",
       "4  Rua João Batista Signori, 115 - Vila Nova, Cam...       285   \n",
       "\n",
       "                                      N_Quartos  \\\n",
       "0  4\\n              \\n\\n                Quartos   \n",
       "1  3\\n              \\n\\n                Quartos   \n",
       "2  3\\n              \\n\\n                Quartos   \n",
       "3  3\\n              \\n\\n                Quartos   \n",
       "4  3\\n              \\n\\n                Quartos   \n",
       "\n",
       "                                      N_Banheiros  \\\n",
       "0  3\\n              \\n\\n                Banheiros   \n",
       "1  3\\n              \\n\\n                Banheiros   \n",
       "2  2\\n              \\n\\n                Banheiros   \n",
       "3  5\\n              \\n\\n                Banheiros   \n",
       "4  2\\n              \\n\\n                Banheiros   \n",
       "\n",
       "                                       N_Garagens  \\\n",
       "0  2\\n                \\n\\n                  Vagas   \n",
       "1  2\\n                \\n\\n                  Vagas   \n",
       "2  2\\n                \\n\\n                  Vagas   \n",
       "3  3\\n                \\n\\n                  Vagas   \n",
       "4  2\\n                \\n\\n                  Vagas   \n",
       "\n",
       "                                        Valor_Mensal  \n",
       "0  R$ 4.800\\n                      /Mês\\n\\n\\n    ...  \n",
       "1               R$ 4.300\\n                      /Mês  \n",
       "2               R$ 3.200\\n                      /Mês  \n",
       "3  R$ 4.500\\n                      /Mês\\n\\n\\n    ...  \n",
       "4  R$ 2.900\\n                      /Mês\\n\\n\\n    ...  "
      ]
     },
     "execution_count": 53,
     "metadata": {},
     "output_type": "execute_result"
    }
   ],
   "source": [
    "df.head()"
   ]
  },
  {
   "cell_type": "code",
   "execution_count": 54,
   "id": "77749151",
   "metadata": {},
   "outputs": [
    {
     "data": {
      "text/plain": [
       "2967"
      ]
     },
     "execution_count": 54,
     "metadata": {},
     "output_type": "execute_result"
    }
   ],
   "source": [
    "#Remove valores duplicados\n",
    "df = df.drop_duplicates()\n",
    "df.shape[0] "
   ]
  },
  {
   "cell_type": "code",
   "execution_count": 55,
   "id": "9612d423",
   "metadata": {},
   "outputs": [],
   "source": [
    "#Remove todas strings das colunas definidas \n",
    "df['N_Banheiros'] = df['N_Banheiros'].str.extract('(\\d+)', expand=False)\n",
    "df['N_Garagens'] = df['N_Garagens'].str.extract('(\\d+)', expand=False)\n",
    "df['N_Quartos'] = df['N_Quartos'].str.extract('(\\d+)', expand=False)\n",
    "\n",
    "df[\"Valor_Mensal\"] = df[\"Valor_Mensal\"].astype(str)\n",
    "df[\"Valor_Mensal\"] = df[\"Valor_Mensal\"].str.replace('.', '')\n",
    "df['Valor_Mensal'] = df['Valor_Mensal'].str.extract('(\\d+)', expand=False)\n",
    "#df.head()"
   ]
  },
  {
   "cell_type": "code",
   "execution_count": 56,
   "id": "01350f6c",
   "metadata": {},
   "outputs": [
    {
     "name": "stdout",
     "output_type": "stream",
     "text": [
      "<class 'pandas.core.frame.DataFrame'>\n",
      "Int64Index: 2967 entries, 0 to 3563\n",
      "Data columns (total 7 columns):\n",
      " #   Column        Non-Null Count  Dtype \n",
      "---  ------        --------------  ----- \n",
      " 0   Título        2967 non-null   object\n",
      " 1   Endereço      2967 non-null   object\n",
      " 2   Metro_m2      2967 non-null   int64 \n",
      " 3   N_Quartos     2508 non-null   object\n",
      " 4   N_Banheiros   2833 non-null   object\n",
      " 5   N_Garagens    2559 non-null   object\n",
      " 6   Valor_Mensal  2967 non-null   object\n",
      "dtypes: int64(1), object(6)\n",
      "memory usage: 185.4+ KB\n"
     ]
    }
   ],
   "source": [
    "df.info()"
   ]
  },
  {
   "cell_type": "code",
   "execution_count": 57,
   "id": "6963af97",
   "metadata": {},
   "outputs": [],
   "source": [
    "#Substitui campos 'Nan' por 0\n",
    "df = df.fillna(0)\n",
    "#Converte a coluna para int\n",
    "df = df.astype({'N_Quartos' : 'int',\n",
    "               'N_Banheiros' : 'int',\n",
    "               'N_Garagens' : 'int',\n",
    "               'Valor_Mensal' : 'int'})"
   ]
  },
  {
   "cell_type": "code",
   "execution_count": 58,
   "id": "555783ae",
   "metadata": {},
   "outputs": [
    {
     "data": {
      "text/html": [
       "<div>\n",
       "<style scoped>\n",
       "    .dataframe tbody tr th:only-of-type {\n",
       "        vertical-align: middle;\n",
       "    }\n",
       "\n",
       "    .dataframe tbody tr th {\n",
       "        vertical-align: top;\n",
       "    }\n",
       "\n",
       "    .dataframe thead th {\n",
       "        text-align: right;\n",
       "    }\n",
       "</style>\n",
       "<table border=\"1\" class=\"dataframe\">\n",
       "  <thead>\n",
       "    <tr style=\"text-align: right;\">\n",
       "      <th></th>\n",
       "      <th>Metro_m2</th>\n",
       "      <th>N_Quartos</th>\n",
       "      <th>N_Banheiros</th>\n",
       "      <th>N_Garagens</th>\n",
       "      <th>Valor_Mensal</th>\n",
       "    </tr>\n",
       "  </thead>\n",
       "  <tbody>\n",
       "    <tr>\n",
       "      <th>count</th>\n",
       "      <td>2967.000000</td>\n",
       "      <td>2967.000000</td>\n",
       "      <td>2967.000000</td>\n",
       "      <td>2967.000000</td>\n",
       "      <td>2967.000000</td>\n",
       "    </tr>\n",
       "    <tr>\n",
       "      <th>mean</th>\n",
       "      <td>303.655881</td>\n",
       "      <td>2.273677</td>\n",
       "      <td>2.584429</td>\n",
       "      <td>3.017526</td>\n",
       "      <td>6691.963263</td>\n",
       "    </tr>\n",
       "    <tr>\n",
       "      <th>std</th>\n",
       "      <td>1603.358550</td>\n",
       "      <td>2.186806</td>\n",
       "      <td>2.191644</td>\n",
       "      <td>7.098932</td>\n",
       "      <td>25155.327494</td>\n",
       "    </tr>\n",
       "    <tr>\n",
       "      <th>min</th>\n",
       "      <td>0.000000</td>\n",
       "      <td>0.000000</td>\n",
       "      <td>0.000000</td>\n",
       "      <td>0.000000</td>\n",
       "      <td>100.000000</td>\n",
       "    </tr>\n",
       "    <tr>\n",
       "      <th>25%</th>\n",
       "      <td>60.000000</td>\n",
       "      <td>1.000000</td>\n",
       "      <td>1.000000</td>\n",
       "      <td>1.000000</td>\n",
       "      <td>1500.000000</td>\n",
       "    </tr>\n",
       "    <tr>\n",
       "      <th>50%</th>\n",
       "      <td>98.000000</td>\n",
       "      <td>2.000000</td>\n",
       "      <td>2.000000</td>\n",
       "      <td>2.000000</td>\n",
       "      <td>2900.000000</td>\n",
       "    </tr>\n",
       "    <tr>\n",
       "      <th>75%</th>\n",
       "      <td>240.000000</td>\n",
       "      <td>3.000000</td>\n",
       "      <td>3.000000</td>\n",
       "      <td>3.000000</td>\n",
       "      <td>6000.000000</td>\n",
       "    </tr>\n",
       "    <tr>\n",
       "      <th>max</th>\n",
       "      <td>42944.000000</td>\n",
       "      <td>50.000000</td>\n",
       "      <td>46.000000</td>\n",
       "      <td>176.000000</td>\n",
       "      <td>820000.000000</td>\n",
       "    </tr>\n",
       "  </tbody>\n",
       "</table>\n",
       "</div>"
      ],
      "text/plain": [
       "           Metro_m2    N_Quartos  N_Banheiros   N_Garagens   Valor_Mensal\n",
       "count   2967.000000  2967.000000  2967.000000  2967.000000    2967.000000\n",
       "mean     303.655881     2.273677     2.584429     3.017526    6691.963263\n",
       "std     1603.358550     2.186806     2.191644     7.098932   25155.327494\n",
       "min        0.000000     0.000000     0.000000     0.000000     100.000000\n",
       "25%       60.000000     1.000000     1.000000     1.000000    1500.000000\n",
       "50%       98.000000     2.000000     2.000000     2.000000    2900.000000\n",
       "75%      240.000000     3.000000     3.000000     3.000000    6000.000000\n",
       "max    42944.000000    50.000000    46.000000   176.000000  820000.000000"
      ]
     },
     "execution_count": 58,
     "metadata": {},
     "output_type": "execute_result"
    }
   ],
   "source": [
    "df.describe()"
   ]
  },
  {
   "cell_type": "markdown",
   "id": "d7404194",
   "metadata": {},
   "source": [
    "### Quantidade de Linhas(Dados)"
   ]
  },
  {
   "cell_type": "code",
   "execution_count": 59,
   "id": "4931ef85",
   "metadata": {},
   "outputs": [
    {
     "data": {
      "text/plain": [
       "2967"
      ]
     },
     "execution_count": 59,
     "metadata": {},
     "output_type": "execute_result"
    }
   ],
   "source": [
    "df.shape[0] "
   ]
  },
  {
   "cell_type": "markdown",
   "id": "390a1251",
   "metadata": {},
   "source": [
    "### Moradias Agrupadas por Metragem"
   ]
  },
  {
   "cell_type": "code",
   "execution_count": 60,
   "id": "66ff537c",
   "metadata": {},
   "outputs": [
    {
     "data": {
      "text/plain": [
       "50      116\n",
       "60       75\n",
       "70       71\n",
       "40       63\n",
       "45       58\n",
       "       ... \n",
       "174       1\n",
       "488       1\n",
       "374       1\n",
       "1300      1\n",
       "1104      1\n",
       "Name: Metro_m2, Length: 534, dtype: int64"
      ]
     },
     "execution_count": 60,
     "metadata": {},
     "output_type": "execute_result"
    }
   ],
   "source": [
    "df.Metro_m2.value_counts()"
   ]
  },
  {
   "cell_type": "code",
   "execution_count": 61,
   "id": "0f35e3ef",
   "metadata": {},
   "outputs": [
    {
     "data": {
      "text/plain": [
       "(-0.5, 19.5)"
      ]
     },
     "execution_count": 61,
     "metadata": {},
     "output_type": "execute_result"
    },
    {
     "data": {
      "image/png": "[encoded data removed]",
      "text/plain": [
       "<Figure size 1440x432 with 1 Axes>"
      ]
     },
     "metadata": {
      "needs_background": "light"
     },
     "output_type": "display_data"
    }
   ],
   "source": [
    "fig = plt.figure(figsize=(20,6))\n",
    "sns.countplot(x='Metro_m2',order=df['Metro_m2'].value_counts().index,data=df)\n",
    "\n",
    "plt.title('Metragem dos Imóveis',fontsize=15)\n",
    "plt.ylabel('Quantidade de Propriedades',fontsize=12)\n",
    "plt.xlabel('Quantidade de Metragem',fontsize=12)\n",
    "plt.xlim(-0.5,19.5)"
   ]
  },
  {
   "cell_type": "markdown",
   "id": "f0af2ceb",
   "metadata": {},
   "source": [
    "### Moradias Agrupadas por Número de Banheiros"
   ]
  },
  {
   "cell_type": "code",
   "execution_count": 62,
   "id": "84cd83e3",
   "metadata": {},
   "outputs": [
    {
     "data": {
      "text/plain": [
       "1     900\n",
       "2     779\n",
       "3     424\n",
       "4     274\n",
       "5     246\n",
       "0     134\n",
       "6      88\n",
       "7      60\n",
       "8      32\n",
       "10     10\n",
       "9       6\n",
       "11      4\n",
       "15      3\n",
       "12      2\n",
       "30      1\n",
       "13      1\n",
       "20      1\n",
       "32      1\n",
       "46      1\n",
       "Name: N_Banheiros, dtype: int64"
      ]
     },
     "execution_count": 62,
     "metadata": {},
     "output_type": "execute_result"
    }
   ],
   "source": [
    "df.N_Banheiros.value_counts()"
   ]
  },
  {
   "cell_type": "code",
   "execution_count": 63,
   "id": "79b437bf",
   "metadata": {},
   "outputs": [
    {
     "data": {
      "text/plain": [
       "Text(0.5, 0, 'Quantidade de Banheiro')"
      ]
     },
     "execution_count": 63,
     "metadata": {},
     "output_type": "execute_result"
    },
    {
     "data": {
      "image/png": "[encoded data removed]",
      "text/plain": [
       "<Figure size 1080x432 with 1 Axes>"
      ]
     },
     "metadata": {
      "needs_background": "light"
     },
     "output_type": "display_data"
    }
   ],
   "source": [
    "fig = plt.figure(figsize=(15,6))\n",
    "sns.countplot(x='N_Banheiros',order=df['N_Banheiros'].value_counts().index,data=df)\n",
    "\n",
    "plt.title('Imóveis com Banheiro',fontsize=15)\n",
    "plt.ylabel('Quantidade de Propriedades',fontsize=12)\n",
    "plt.xlabel('Quantidade de Banheiro',fontsize=12)\n"
   ]
  },
  {
   "cell_type": "markdown",
   "id": "4bae3d58",
   "metadata": {},
   "source": [
    "### Moradias Agrupadas por Número de Quartos"
   ]
  },
  {
   "cell_type": "code",
   "execution_count": 64,
   "id": "69a2ce24",
   "metadata": {},
   "outputs": [
    {
     "data": {
      "text/plain": [
       "3     904\n",
       "2     649\n",
       "1     544\n",
       "0     459\n",
       "4     262\n",
       "5      62\n",
       "6      27\n",
       "8      18\n",
       "7      17\n",
       "10      6\n",
       "9       5\n",
       "11      2\n",
       "15      2\n",
       "16      2\n",
       "13      1\n",
       "36      1\n",
       "19      1\n",
       "12      1\n",
       "50      1\n",
       "28      1\n",
       "22      1\n",
       "40      1\n",
       "Name: N_Quartos, dtype: int64"
      ]
     },
     "execution_count": 64,
     "metadata": {},
     "output_type": "execute_result"
    }
   ],
   "source": [
    "df.N_Quartos.value_counts()"
   ]
  },
  {
   "cell_type": "code",
   "execution_count": 65,
   "id": "80700c4f",
   "metadata": {},
   "outputs": [
    {
     "data": {
      "text/plain": [
       "Text(0.5, 0, 'Quantidade de Quartos')"
      ]
     },
     "execution_count": 65,
     "metadata": {},
     "output_type": "execute_result"
    },
    {
     "data": {
      "image/png": "[encoded data removed]",
      "text/plain": [
       "<Figure size 1080x432 with 1 Axes>"
      ]
     },
     "metadata": {
      "needs_background": "light"
     },
     "output_type": "display_data"
    }
   ],
   "source": [
    "fig = plt.figure(figsize=(15,6))\n",
    "sns.countplot(x='N_Quartos',order=df['N_Quartos'].value_counts().index,data=df)\n",
    "\n",
    "plt.title('Imóveis com Quartos',fontsize=15)\n",
    "plt.ylabel('Quantidade de Propriedades',fontsize=12)\n",
    "plt.xlabel('Quantidade de Quartos',fontsize=12)"
   ]
  },
  {
   "cell_type": "markdown",
   "id": "f7eab20e",
   "metadata": {},
   "source": [
    "### Moradias Agrupadas por Número de Vagas"
   ]
  },
  {
   "cell_type": "code",
   "execution_count": 66,
   "id": "e9f9c776",
   "metadata": {},
   "outputs": [
    {
     "data": {
      "text/plain": [
       "1      956\n",
       "2      632\n",
       "0      408\n",
       "4      370\n",
       "3      252\n",
       "6       99\n",
       "5       68\n",
       "8       36\n",
       "10      29\n",
       "12      18\n",
       "7       16\n",
       "20       9\n",
       "9        8\n",
       "25       7\n",
       "15       7\n",
       "50       7\n",
       "30       6\n",
       "14       5\n",
       "16       4\n",
       "13       3\n",
       "40       2\n",
       "18       2\n",
       "70       1\n",
       "72       1\n",
       "100      1\n",
       "11       1\n",
       "23       1\n",
       "80       1\n",
       "26       1\n",
       "28       1\n",
       "46       1\n",
       "17       1\n",
       "64       1\n",
       "19       1\n",
       "35       1\n",
       "60       1\n",
       "90       1\n",
       "37       1\n",
       "38       1\n",
       "22       1\n",
       "55       1\n",
       "145      1\n",
       "63       1\n",
       "176      1\n",
       "29       1\n",
       "Name: N_Garagens, dtype: int64"
      ]
     },
     "execution_count": 66,
     "metadata": {},
     "output_type": "execute_result"
    }
   ],
   "source": [
    "df.N_Garagens.value_counts()"
   ]
  },
  {
   "cell_type": "code",
   "execution_count": 67,
   "id": "f2942e24",
   "metadata": {},
   "outputs": [
    {
     "data": {
      "text/plain": [
       "(-0.5, 19.5)"
      ]
     },
     "execution_count": 67,
     "metadata": {},
     "output_type": "execute_result"
    },
    {
     "data": {
      "image/png": "[encoded data removed]",
      "text/plain": [
       "<Figure size 1080x432 with 1 Axes>"
      ]
     },
     "metadata": {
      "needs_background": "light"
     },
     "output_type": "display_data"
    }
   ],
   "source": [
    "fig = plt.figure(figsize=(15,6))\n",
    "sns.countplot(x='N_Garagens',order=df['N_Garagens'].value_counts().index,data=df)\n",
    "\n",
    "plt.title('Imóveis com Garagens',fontsize=15)\n",
    "plt.ylabel('Quantidade de Propriedades',fontsize=12)\n",
    "plt.xlabel('Quantidade de Garagens',fontsize=12)\n",
    "plt.xlim(-0.5,19.5)"
   ]
  },
  {
   "cell_type": "markdown",
   "id": "cb1c4cc2",
   "metadata": {},
   "source": [
    "## Ocorrências"
   ]
  },
  {
   "cell_type": "markdown",
   "id": "4f74efee",
   "metadata": {},
   "source": [
    "**Ocorrência de Metragem**"
   ]
  },
  {
   "cell_type": "code",
   "execution_count": 20,
   "id": "4c3046c8",
   "metadata": {},
   "outputs": [
    {
     "data": {
      "text/plain": [
       "50      0.039097\n",
       "60      0.025278\n",
       "70      0.023930\n",
       "40      0.021234\n",
       "45      0.019548\n",
       "          ...   \n",
       "174     0.000337\n",
       "488     0.000337\n",
       "374     0.000337\n",
       "1300    0.000337\n",
       "1104    0.000337\n",
       "Name: Metro_m2, Length: 534, dtype: float64"
      ]
     },
     "execution_count": 20,
     "metadata": {},
     "output_type": "execute_result"
    }
   ],
   "source": [
    "df.Metro_m2.value_counts() / df.shape[0]"
   ]
  },
  {
   "cell_type": "markdown",
   "id": "6e16cdfe",
   "metadata": {},
   "source": [
    "**Ocorrência de Banheiros**"
   ]
  },
  {
   "cell_type": "code",
   "execution_count": 71,
   "id": "2014d32d",
   "metadata": {},
   "outputs": [
    {
     "data": {
      "text/plain": [
       "1     0.303337\n",
       "2     0.262555\n",
       "3     0.142905\n",
       "4     0.092349\n",
       "5     0.082912\n",
       "0     0.045163\n",
       "6     0.029660\n",
       "7     0.020222\n",
       "8     0.010785\n",
       "10    0.003370\n",
       "9     0.002022\n",
       "11    0.001348\n",
       "15    0.001011\n",
       "12    0.000674\n",
       "30    0.000337\n",
       "13    0.000337\n",
       "20    0.000337\n",
       "32    0.000337\n",
       "46    0.000337\n",
       "Name: N_Banheiros, dtype: float64"
      ]
     },
     "execution_count": 71,
     "metadata": {},
     "output_type": "execute_result"
    }
   ],
   "source": [
    "df.N_Banheiros.value_counts() / df.shape[0]"
   ]
  },
  {
   "cell_type": "markdown",
   "id": "d3a77699",
   "metadata": {},
   "source": [
    "**Ocorrência de Quartos**"
   ]
  },
  {
   "cell_type": "code",
   "execution_count": 72,
   "id": "1c71615c",
   "metadata": {},
   "outputs": [
    {
     "data": {
      "text/plain": [
       "3     0.304685\n",
       "2     0.218739\n",
       "1     0.183350\n",
       "0     0.154702\n",
       "4     0.088305\n",
       "5     0.020897\n",
       "6     0.009100\n",
       "8     0.006067\n",
       "7     0.005730\n",
       "10    0.002022\n",
       "9     0.001685\n",
       "11    0.000674\n",
       "15    0.000674\n",
       "16    0.000674\n",
       "13    0.000337\n",
       "36    0.000337\n",
       "19    0.000337\n",
       "12    0.000337\n",
       "50    0.000337\n",
       "28    0.000337\n",
       "22    0.000337\n",
       "40    0.000337\n",
       "Name: N_Quartos, dtype: float64"
      ]
     },
     "execution_count": 72,
     "metadata": {},
     "output_type": "execute_result"
    }
   ],
   "source": [
    "df.N_Quartos.value_counts() / df.shape[0]"
   ]
  },
  {
   "cell_type": "markdown",
   "id": "92627569",
   "metadata": {},
   "source": [
    "**Ocorrência de Garagens**"
   ]
  },
  {
   "cell_type": "code",
   "execution_count": 73,
   "id": "036518a6",
   "metadata": {},
   "outputs": [
    {
     "data": {
      "text/plain": [
       "1      0.322211\n",
       "2      0.213010\n",
       "0      0.137513\n",
       "4      0.124705\n",
       "3      0.084934\n",
       "6      0.033367\n",
       "5      0.022919\n",
       "8      0.012133\n",
       "10     0.009774\n",
       "12     0.006067\n",
       "7      0.005393\n",
       "20     0.003033\n",
       "9      0.002696\n",
       "25     0.002359\n",
       "15     0.002359\n",
       "50     0.002359\n",
       "30     0.002022\n",
       "14     0.001685\n",
       "16     0.001348\n",
       "13     0.001011\n",
       "40     0.000674\n",
       "18     0.000674\n",
       "70     0.000337\n",
       "72     0.000337\n",
       "100    0.000337\n",
       "11     0.000337\n",
       "23     0.000337\n",
       "80     0.000337\n",
       "26     0.000337\n",
       "28     0.000337\n",
       "46     0.000337\n",
       "17     0.000337\n",
       "64     0.000337\n",
       "19     0.000337\n",
       "35     0.000337\n",
       "60     0.000337\n",
       "90     0.000337\n",
       "37     0.000337\n",
       "38     0.000337\n",
       "22     0.000337\n",
       "55     0.000337\n",
       "145    0.000337\n",
       "63     0.000337\n",
       "176    0.000337\n",
       "29     0.000337\n",
       "Name: N_Garagens, dtype: float64"
      ]
     },
     "execution_count": 73,
     "metadata": {},
     "output_type": "execute_result"
    }
   ],
   "source": [
    "df.N_Garagens.value_counts() / df.shape[0]"
   ]
  },
  {
   "cell_type": "markdown",
   "id": "1e665596",
   "metadata": {},
   "source": [
    "# Blox Plot #"
   ]
  },
  {
   "cell_type": "code",
   "execution_count": 74,
   "id": "97f2cc88",
   "metadata": {},
   "outputs": [
    {
     "data": {
      "image/png": "[encoded data removed]",
      "text/plain": [
       "<Figure size 720x504 with 1 Axes>"
      ]
     },
     "metadata": {
      "needs_background": "light"
     },
     "output_type": "display_data"
    }
   ],
   "source": [
    "df.boxplot(figsize=(10,7))\n",
    "plt.title(\"Blox Plot\")\n",
    "plt.show()"
   ]
  },
  {
   "cell_type": "markdown",
   "id": "86d5e51c",
   "metadata": {},
   "source": [
    "# Histograma #"
   ]
  },
  {
   "cell_type": "code",
   "execution_count": 75,
   "id": "60a316b1",
   "metadata": {},
   "outputs": [
    {
     "data": {
      "text/plain": [
       "array([[<AxesSubplot:title={'center':'Metro_m2'}>,\n",
       "        <AxesSubplot:title={'center':'N_Quartos'}>],\n",
       "       [<AxesSubplot:title={'center':'N_Banheiros'}>,\n",
       "        <AxesSubplot:title={'center':'N_Garagens'}>],\n",
       "       [<AxesSubplot:title={'center':'Valor_Mensal'}>, <AxesSubplot:>]],\n",
       "      dtype=object)"
      ]
     },
     "execution_count": 75,
     "metadata": {},
     "output_type": "execute_result"
    },
    {
     "data": {
      "image/png": "[encoded data removed]",
      "text/plain": [
       "<Figure size 720x720 with 6 Axes>"
      ]
     },
     "metadata": {
      "needs_background": "light"
     },
     "output_type": "display_data"
    }
   ],
   "source": [
    "df.hist(grid=False, figsize=(10,10))"
   ]
  },
  {
   "cell_type": "code",
   "execution_count": 78,
   "id": "31f39bc9",
   "metadata": {},
   "outputs": [
    {
     "data": {
      "image/png": "[encoded data removed]",
      "text/plain": [
       "<Figure size 936x576 with 1 Axes>"
      ]
     },
     "metadata": {
      "needs_background": "light"
     },
     "output_type": "display_data"
    }
   ],
   "source": [
    "plt.figure(figsize=(13,8))\n",
    "plt.scatter(df['Metro_m2'],  df['Valor_Mensal'])\n",
    "plt.title('Scatter Plot')\n",
    "plt.xlabel('Metros Quadrados')\n",
    "plt.ylabel('Mensalidade')\n",
    "plt.show()"
   ]
  },
  {
   "cell_type": "markdown",
   "id": "a741e15c",
   "metadata": {},
   "source": [
    "# Mensalidade"
   ]
  },
  {
   "cell_type": "code",
   "execution_count": 27,
   "id": "f1d6bd1b",
   "metadata": {},
   "outputs": [
    {
     "data": {
      "text/plain": [
       "1500     85\n",
       "3500     83\n",
       "2500     81\n",
       "1200     78\n",
       "1000     75\n",
       "         ..\n",
       "4250      1\n",
       "12800     1\n",
       "2990      1\n",
       "1165      1\n",
       "8640      1\n",
       "Name: Valor_Mensal, Length: 383, dtype: int64"
      ]
     },
     "execution_count": 27,
     "metadata": {},
     "output_type": "execute_result"
    }
   ],
   "source": [
    "df.Valor_Mensal.value_counts()"
   ]
  },
  {
   "cell_type": "code",
   "execution_count": 79,
   "id": "c44c46f7",
   "metadata": {
    "scrolled": true
   },
   "outputs": [
    {
     "data": {
      "text/plain": [
       "(-0.5, 9.5)"
      ]
     },
     "execution_count": 79,
     "metadata": {},
     "output_type": "execute_result"
    },
    {
     "data": {
      "image/png": "[encoded data removed]",
      "text/plain": [
       "<Figure size 1080x432 with 1 Axes>"
      ]
     },
     "metadata": {
      "needs_background": "light"
     },
     "output_type": "display_data"
    }
   ],
   "source": [
    "fig = plt.figure(figsize=(15,6))\n",
    "sns.countplot(x='Valor_Mensal',order=df['Valor_Mensal'].value_counts().index,data=df)\n",
    "\n",
    "plt.title('As 10 Mensalidades mais Disponivéis no Mercado',fontsize=15)\n",
    "plt.ylabel('Quantidade de Propriedades',fontsize=12)\n",
    "plt.xlabel('Valor de Mensalidade',fontsize=12)\n",
    "\n",
    "plt.xlim(-0.5,9.5)"
   ]
  },
  {
   "cell_type": "markdown",
   "id": "45e0217b",
   "metadata": {},
   "source": [
    "# Correlação"
   ]
  },
  {
   "cell_type": "code",
   "execution_count": 80,
   "id": "5f67d21c",
   "metadata": {},
   "outputs": [
    {
     "name": "stdout",
     "output_type": "stream",
     "text": [
      "Correlação:\n",
      "              Metro_m2  N_Quartos  N_Banheiros  N_Garagens  Valor_Mensal\n",
      "Metro_m2      1.000000   0.028799     0.121576    0.437679      0.547019\n",
      "N_Quartos     0.028799   1.000000     0.461018    0.155476      0.123946\n",
      "N_Banheiros   0.121576   0.461018     1.000000    0.361453      0.180719\n",
      "N_Garagens    0.437679   0.155476     0.361453    1.000000      0.395334\n",
      "Valor_Mensal  0.547019   0.123946     0.180719    0.395334      1.000000 \n",
      "\n"
     ]
    }
   ],
   "source": [
    "corr_df = df.corr()\n",
    "print(\"Correlação:\")\n",
    "print(corr_df, \"\\n\")"
   ]
  },
  {
   "cell_type": "code",
   "execution_count": 81,
   "id": "9eb3f799",
   "metadata": {},
   "outputs": [
    {
     "data": {
      "text/plain": [
       "<AxesSubplot:>"
      ]
     },
     "execution_count": 81,
     "metadata": {},
     "output_type": "execute_result"
    },
    {
     "data": {
      "image/png": "[encoded data removed]",
      "text/plain": [
       "<Figure size 1080x504 with 2 Axes>"
      ]
     },
     "metadata": {
      "needs_background": "light"
     },
     "output_type": "display_data"
    }
   ],
   "source": [
    "plt.figure(figsize = (15,7))\n",
    "sns.heatmap(df[corr_df.index].corr(), cmap='Greens', linewidth=0.3, annot=True, cbar_kws={\"shrink\": .8})"
   ]
  },
  {
   "cell_type": "code",
   "execution_count": null,
   "id": "7057dc16",
   "metadata": {},
   "outputs": [],
   "source": []
  }
 ],
 "metadata": {
  "kernelspec": {
   "display_name": "Python 3 (ipykernel)",
   "language": "python",
   "name": "python3"
  },
  "language_info": {
   "codemirror_mode": {
    "name": "ipython",
    "version": 3
   },
   "file_extension": ".py",
   "mimetype": "text/x-python",
   "name": "python",
   "nbconvert_exporter": "python",
   "pygments_lexer": "ipython3",
   "version": "3.9.12"
  }
 },
 "nbformat": 4,
 "nbformat_minor": 5
}
